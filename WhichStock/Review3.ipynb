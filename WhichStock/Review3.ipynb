{
  "nbformat": 4,
  "nbformat_minor": 0,
  "metadata": {
    "kernelspec": {
      "display_name": "Python 3",
      "language": "python",
      "name": "python3"
    },
    "language_info": {
      "codemirror_mode": {
        "name": "ipython",
        "version": 3
      },
      "file_extension": ".py",
      "mimetype": "text/x-python",
      "name": "python",
      "nbconvert_exporter": "python",
      "pygments_lexer": "ipython3",
      "version": "3.6.8"
    },
    "colab": {
      "name": "WhichStock.ipynb",
      "provenance": []
    }
  },
  "cells": [
    {
      "cell_type": "code",
      "metadata": {
        "id": "uFMpAxa29fD3",
        "colab_type": "code",
        "colab": {
          "base_uri": "https://localhost:8080/",
          "height": 70
        },
        "outputId": "6eb2788c-8477-4fe2-f899-b3a45a89773c"
      },
      "source": [
        "import numpy as np\n",
        "import pandas as pd\n",
        "import pandas.util.testing as tm\n",
        "import matplotlib.pyplot as plt\n",
        "import seaborn as sns\n",
        "sns.set()"
      ],
      "execution_count": 1,
      "outputs": [
        {
          "output_type": "stream",
          "text": [
            "/usr/local/lib/python3.6/dist-packages/ipykernel_launcher.py:3: FutureWarning: pandas.util.testing is deprecated. Use the functions in the public API at pandas.testing instead.\n",
            "  This is separate from the ipykernel package so we can avoid doing imports until\n"
          ],
          "name": "stderr"
        }
      ]
    },
    {
      "cell_type": "code",
      "metadata": {
        "id": "96NGe4Yt9cD9",
        "colab_type": "code",
        "outputId": "79e4d885-26e9-42e8-dba1-dc9e1fdf39d3",
        "colab": {
          "base_uri": "https://localhost:8080/",
          "height": 185
        }
      },
      "source": [
        "directory = ''\n",
        "ori_name = ['ACN.csv', 'AMZN.csv', 'CTSH.csv', 'FB.csv', 'GOOG.csv',\n",
        "          'IBM.csv', 'INFY.csv', 'MSFT.csv', 'TCS.NS.csv', 'WIT.csv']\n",
        "stocks = [directory + s for s in ori_name]\n",
        "stocks"
      ],
      "execution_count": 2,
      "outputs": [
        {
          "output_type": "execute_result",
          "data": {
            "text/plain": [
              "['ACN.csv',\n",
              " 'AMZN.csv',\n",
              " 'CTSH.csv',\n",
              " 'FB.csv',\n",
              " 'GOOG.csv',\n",
              " 'IBM.csv',\n",
              " 'INFY.csv',\n",
              " 'MSFT.csv',\n",
              " 'TCS.NS.csv',\n",
              " 'WIT.csv']"
            ]
          },
          "metadata": {
            "tags": []
          },
          "execution_count": 2
        }
      ]
    },
    {
      "cell_type": "code",
      "metadata": {
        "id": "mg4-b7kJ9cED",
        "colab_type": "code",
        "colab": {}
      },
      "source": [
        "dfs = [pd.read_csv(s)[['Date', 'Close']] for s in stocks]"
      ],
      "execution_count": 0,
      "outputs": []
    },
    {
      "cell_type": "code",
      "metadata": {
        "id": "evoBfBSi9cEH",
        "colab_type": "code",
        "outputId": "62486f9d-03f4-4707-e3bb-f8d4bf6305d2",
        "colab": {
          "base_uri": "https://localhost:8080/",
          "height": 195
        }
      },
      "source": [
        "from functools import reduce\n",
        "data = reduce(lambda left,right: pd.merge(left,right,on='Date'), dfs).iloc[:, 1:]\n",
        "data.head()"
      ],
      "execution_count": 4,
      "outputs": [
        {
          "output_type": "execute_result",
          "data": {
            "text/html": [
              "<div>\n",
              "<style scoped>\n",
              "    .dataframe tbody tr th:only-of-type {\n",
              "        vertical-align: middle;\n",
              "    }\n",
              "\n",
              "    .dataframe tbody tr th {\n",
              "        vertical-align: top;\n",
              "    }\n",
              "\n",
              "    .dataframe thead th {\n",
              "        text-align: right;\n",
              "    }\n",
              "</style>\n",
              "<table border=\"1\" class=\"dataframe\">\n",
              "  <thead>\n",
              "    <tr style=\"text-align: right;\">\n",
              "      <th></th>\n",
              "      <th>Close_x</th>\n",
              "      <th>Close_y</th>\n",
              "      <th>Close_x</th>\n",
              "      <th>Close_y</th>\n",
              "      <th>Close_x</th>\n",
              "      <th>Close_y</th>\n",
              "      <th>Close_x</th>\n",
              "      <th>Close_y</th>\n",
              "      <th>Close_x</th>\n",
              "      <th>Close_y</th>\n",
              "    </tr>\n",
              "  </thead>\n",
              "  <tbody>\n",
              "    <tr>\n",
              "      <th>0</th>\n",
              "      <td>178.330002</td>\n",
              "      <td>1869.000000</td>\n",
              "      <td>59.439999</td>\n",
              "      <td>185.300003</td>\n",
              "      <td>1162.300049</td>\n",
              "      <td>134.320007</td>\n",
              "      <td>10.17</td>\n",
              "      <td>128.070007</td>\n",
              "      <td>2095.449951</td>\n",
              "      <td>4.47</td>\n",
              "    </tr>\n",
              "    <tr>\n",
              "      <th>1</th>\n",
              "      <td>178.539993</td>\n",
              "      <td>1858.969971</td>\n",
              "      <td>59.990002</td>\n",
              "      <td>182.720001</td>\n",
              "      <td>1138.849976</td>\n",
              "      <td>135.119995</td>\n",
              "      <td>10.20</td>\n",
              "      <td>126.220001</td>\n",
              "      <td>2143.949951</td>\n",
              "      <td>4.58</td>\n",
              "    </tr>\n",
              "    <tr>\n",
              "      <th>2</th>\n",
              "      <td>179.570007</td>\n",
              "      <td>1857.520020</td>\n",
              "      <td>61.000000</td>\n",
              "      <td>184.820007</td>\n",
              "      <td>1149.630005</td>\n",
              "      <td>136.449997</td>\n",
              "      <td>10.18</td>\n",
              "      <td>126.900002</td>\n",
              "      <td>2109.750000</td>\n",
              "      <td>4.48</td>\n",
              "    </tr>\n",
              "    <tr>\n",
              "      <th>3</th>\n",
              "      <td>180.389999</td>\n",
              "      <td>1859.680054</td>\n",
              "      <td>61.500000</td>\n",
              "      <td>185.320007</td>\n",
              "      <td>1151.420044</td>\n",
              "      <td>136.350006</td>\n",
              "      <td>10.22</td>\n",
              "      <td>127.669998</td>\n",
              "      <td>2081.750000</td>\n",
              "      <td>4.46</td>\n",
              "    </tr>\n",
              "    <tr>\n",
              "      <th>4</th>\n",
              "      <td>178.270004</td>\n",
              "      <td>1815.479980</td>\n",
              "      <td>61.080002</td>\n",
              "      <td>180.869995</td>\n",
              "      <td>1140.770020</td>\n",
              "      <td>132.389999</td>\n",
              "      <td>10.16</td>\n",
              "      <td>126.180000</td>\n",
              "      <td>2054.050049</td>\n",
              "      <td>4.42</td>\n",
              "    </tr>\n",
              "  </tbody>\n",
              "</table>\n",
              "</div>"
            ],
            "text/plain": [
              "      Close_x      Close_y    Close_x  ...     Close_y      Close_x  Close_y\n",
              "0  178.330002  1869.000000  59.439999  ...  128.070007  2095.449951     4.47\n",
              "1  178.539993  1858.969971  59.990002  ...  126.220001  2143.949951     4.58\n",
              "2  179.570007  1857.520020  61.000000  ...  126.900002  2109.750000     4.48\n",
              "3  180.389999  1859.680054  61.500000  ...  127.669998  2081.750000     4.46\n",
              "4  178.270004  1815.479980  61.080002  ...  126.180000  2054.050049     4.42\n",
              "\n",
              "[5 rows x 10 columns]"
            ]
          },
          "metadata": {
            "tags": []
          },
          "execution_count": 4
        }
      ]
    },
    {
      "cell_type": "code",
      "metadata": {
        "id": "ZQOoHm9x9cEL",
        "colab_type": "code",
        "colab": {}
      },
      "source": [
        "returns = data.pct_change()\n",
        "mean_daily_returns = returns.mean()\n",
        "volatilities = returns.std()"
      ],
      "execution_count": 0,
      "outputs": []
    },
    {
      "cell_type": "code",
      "metadata": {
        "id": "MEDCgtcl9cEO",
        "colab_type": "code",
        "outputId": "5ee4a6c2-3782-4b5d-bb53-d31d6bf797c4",
        "colab": {
          "base_uri": "https://localhost:8080/",
          "height": 202
        }
      },
      "source": [
        "mean_daily_returns * 252"
      ],
      "execution_count": 6,
      "outputs": [
        {
          "output_type": "execute_result",
          "data": {
            "text/plain": [
              "Close_x    0.101293\n",
              "Close_y    0.321788\n",
              "Close_x   -0.080167\n",
              "Close_y    0.219622\n",
              "Close_x    0.244607\n",
              "Close_y   -0.079293\n",
              "Close_x   -0.074989\n",
              "Close_y    0.462374\n",
              "Close_x   -0.051113\n",
              "Close_y   -0.407720\n",
              "dtype: float64"
            ]
          },
          "metadata": {
            "tags": []
          },
          "execution_count": 6
        }
      ]
    },
    {
      "cell_type": "code",
      "metadata": {
        "id": "d1Tl2hh29cEV",
        "colab_type": "code",
        "outputId": "41d37ed8-5cef-4dff-f614-b6dde5bf8a08",
        "colab": {
          "base_uri": "https://localhost:8080/",
          "height": 202
        }
      },
      "source": [
        "volatilities * 252"
      ],
      "execution_count": 7,
      "outputs": [
        {
          "output_type": "execute_result",
          "data": {
            "text/plain": [
              "Close_x    5.916300\n",
              "Close_y    5.047147\n",
              "Close_x    7.121601\n",
              "Close_y    6.386430\n",
              "Close_x    5.802138\n",
              "Close_y    5.859486\n",
              "Close_x    6.763885\n",
              "Close_y    6.347253\n",
              "Close_x    5.381582\n",
              "Close_y    5.015238\n",
              "dtype: float64"
            ]
          },
          "metadata": {
            "tags": []
          },
          "execution_count": 7
        }
      ]
    },
    {
      "cell_type": "code",
      "metadata": {
        "id": "FDPmwNmJ9cEd",
        "colab_type": "code",
        "colab": {}
      },
      "source": [
        "combine = pd.DataFrame({'returns': mean_daily_returns * 252,\n",
        "                       'volatility': volatilities * 252})"
      ],
      "execution_count": 0,
      "outputs": []
    },
    {
      "cell_type": "code",
      "metadata": {
        "id": "l4XhrUWL9cEh",
        "colab_type": "code",
        "outputId": "dc4736db-8300-478f-e485-dfa833b185ab",
        "colab": {
          "base_uri": "https://localhost:8080/",
          "height": 580
        }
      },
      "source": [
        "g = sns.jointplot(\"volatility\", \"returns\", data=combine, kind=\"reg\",height=7)\n",
        "\n",
        "for i in range(combine.shape[0]):\n",
        "    plt.annotate(ori_name[i].replace('.csv',''), (combine.iloc[i, 1], combine.iloc[i, 0]))\n",
        "    \n",
        "plt.text(0, -1.5, 'SELL', fontsize=25)\n",
        "plt.text(0, 1.0, 'BUY', fontsize=25)\n",
        "    \n",
        "plt.show()"
      ],
      "execution_count": 9,
      "outputs": [
        {
          "output_type": "display_data",
          "data": {
            "image/png": "[encoded data removed]",
            "text/plain": [
              "<Figure size 504x504 with 3 Axes>"
            ]
          },
          "metadata": {
            "tags": [],
            "needs_background": "light"
          }
        }
      ]
    }
  ]
}